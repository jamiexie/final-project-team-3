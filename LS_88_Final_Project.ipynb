{
 "cells": [
  {
   "cell_type": "code",
   "execution_count": 2,
   "metadata": {},
   "outputs": [],
   "source": [
    "#loading dependencies\n",
    "from datascience import *\n",
    "import numpy as np\n",
    "import pandas as pd\n",
    "import matplotlib\n",
    "%matplotlib inline\n",
    "import matplotlib.pyplot as plt"
   ]
  },
  {
   "cell_type": "code",
   "execution_count": 6,
   "metadata": {},
   "outputs": [
    {
     "data": {
      "text/html": [
       "<table border=\"1\" class=\"dataframe\">\n",
       "    <thead>\n",
       "        <tr>\n",
       "            <th>candidate_id</th> <th>candidate</th> <th>riding</th> <th>date</th> <th>acclamation</th> <th>elected</th> <th>gender</th> <th>general_election</th> <th>incumbent</th> <th>occupation</th> <th>parliament</th> <th>party</th> <th>party_short</th> <th>province</th> <th>vote_share</th> <th>votes</th>\n",
       "        </tr>\n",
       "    </thead>\n",
       "    <tbody>\n",
       "        <tr>\n",
       "            <td>1           </td> <td>AALBORG, Anders Olav</td> <td>THE BATTLEFORDS               </td> <td>1945-06-11</td> <td>0          </td> <td>0      </td> <td>M     </td> <td>1               </td> <td>0        </td> <td>teacher                             </td> <td>20        </td> <td>Social Credit Party of Canada       </td> <td>S.C.       </td> <td>SK      </td> <td>7.88      </td> <td>1346 </td>\n",
       "        </tr>\n",
       "        <tr>\n",
       "            <td>2           </td> <td>AALTO, Brian        </td> <td>THUNDER BAY--NIPIGON          </td> <td>1993-10-25</td> <td>0          </td> <td>0      </td> <td>M     </td> <td>1               </td> <td>0        </td> <td>student                             </td> <td>35        </td> <td>Party for the Commonwealth of Canada</td> <td>Com'lth    </td> <td>ON      </td> <td>0.22      </td> <td>81   </td>\n",
       "        </tr>\n",
       "        <tr>\n",
       "            <td>3           </td> <td>AASLAND, Bjarne     </td> <td>WINNIPEG--ST. JAMES           </td> <td>1993-10-25</td> <td>0          </td> <td>0      </td> <td>M     </td> <td>1               </td> <td>0        </td> <td>musician, piano technician          </td> <td>35        </td> <td>Canada Party                        </td> <td>C.P.       </td> <td>MB      </td> <td>0.1       </td> <td>38   </td>\n",
       "        </tr>\n",
       "        <tr>\n",
       "            <td>4           </td> <td>ABBAT, Serge        </td> <td>DON VALLEY WEST               </td> <td>2004-06-28</td> <td>0          </td> <td>0      </td> <td>M     </td> <td>1               </td> <td>0        </td> <td>property manager/computer consultant</td> <td>38        </td> <td>Green Party of Canada               </td> <td>G.P.       </td> <td>ON      </td> <td>3.33      </td> <td>1703 </td>\n",
       "        </tr>\n",
       "        <tr>\n",
       "            <td>4           </td> <td>ABBAT, Serge        </td> <td>SCARBOROUGH--ROUGE RIVER      </td> <td>2006-01-23</td> <td>0          </td> <td>0      </td> <td>M     </td> <td>1               </td> <td>0        </td> <td>computer consultant                 </td> <td>39        </td> <td>Green Party of Canada               </td> <td>G.P.       </td> <td>ON      </td> <td>1.63      </td> <td>754  </td>\n",
       "        </tr>\n",
       "        <tr>\n",
       "            <td>5           </td> <td>ABBEY, Colin        </td> <td>OKANAGAN--SIMILKAMEEN--MERRITT</td> <td>1988-11-21</td> <td>0          </td> <td>0      </td> <td>M     </td> <td>1               </td> <td>0        </td> <td>minister                            </td> <td>34        </td> <td>Social Credit Party of Canada       </td> <td>S.C.       </td> <td>BC      </td> <td>1.04      </td> <td>451  </td>\n",
       "        </tr>\n",
       "        <tr>\n",
       "            <td>6           </td> <td>ABBEY, Mike         </td> <td>BRANDON--SOURIS               </td> <td>2004-06-28</td> <td>0          </td> <td>0      </td> <td>M     </td> <td>1               </td> <td>0        </td> <td>civil servant                       </td> <td>38        </td> <td>New Democratic Party                </td> <td>N.D.P.     </td> <td>MB      </td> <td>19.15     </td> <td>6740 </td>\n",
       "        </tr>\n",
       "        <tr>\n",
       "            <td>7           </td> <td>ABBEY, Norm         </td> <td>NANAIMO--COWICHAN             </td> <td>2000-11-27</td> <td>0          </td> <td>0      </td> <td>M     </td> <td>1               </td> <td>0        </td> <td>tree planter                        </td> <td>37        </td> <td>Green Party of Canada               </td> <td>G.P.       </td> <td>BC      </td> <td>2.36      </td> <td>1196 </td>\n",
       "        </tr>\n",
       "        <tr>\n",
       "            <td>8           </td> <td>ABBOTT, Alina       </td> <td>CHATHAM-KENT--ESSEX           </td> <td>2008-10-14</td> <td>0          </td> <td>0      </td> <td>F     </td> <td>1               </td> <td>0        </td> <td>teacher                             </td> <td>40        </td> <td>Green Party of Canada               </td> <td>G.P.       </td> <td>ON      </td> <td>6.51      </td> <td>2712 </td>\n",
       "        </tr>\n",
       "        <tr>\n",
       "            <td>9           </td> <td>ABBOTT, Charles Leo </td> <td>SPRINGFIELD                   </td> <td>1945-06-11</td> <td>0          </td> <td>0      </td> <td>M     </td> <td>1               </td> <td>0        </td> <td>clergyman                           </td> <td>20        </td> <td>Independent                         </td> <td>Ind.       </td> <td>MB      </td> <td>1.37      </td> <td>231  </td>\n",
       "        </tr>\n",
       "    </tbody>\n",
       "</table>\n",
       "<p>... (38789 rows omitted)</p>"
      ],
      "text/plain": [
       "candidate_id | candidate            | riding                         | date       | acclamation | elected | gender | general_election | incumbent | occupation                           | parliament | party                                | party_short | province | vote_share | votes\n",
       "1            | AALBORG, Anders Olav | THE BATTLEFORDS                | 1945-06-11 | 0           | 0       | M      | 1                | 0         | teacher                              | 20         | Social Credit Party of Canada        | S.C.        | SK       | 7.88       | 1346\n",
       "2            | AALTO, Brian         | THUNDER BAY--NIPIGON           | 1993-10-25 | 0           | 0       | M      | 1                | 0         | student                              | 35         | Party for the Commonwealth of Canada | Com'lth     | ON       | 0.22       | 81\n",
       "3            | AASLAND, Bjarne      | WINNIPEG--ST. JAMES            | 1993-10-25 | 0           | 0       | M      | 1                | 0         | musician, piano technician           | 35         | Canada Party                         | C.P.        | MB       | 0.1        | 38\n",
       "4            | ABBAT, Serge         | DON VALLEY WEST                | 2004-06-28 | 0           | 0       | M      | 1                | 0         | property manager/computer consultant | 38         | Green Party of Canada                | G.P.        | ON       | 3.33       | 1703\n",
       "4            | ABBAT, Serge         | SCARBOROUGH--ROUGE RIVER       | 2006-01-23 | 0           | 0       | M      | 1                | 0         | computer consultant                  | 39         | Green Party of Canada                | G.P.        | ON       | 1.63       | 754\n",
       "5            | ABBEY, Colin         | OKANAGAN--SIMILKAMEEN--MERRITT | 1988-11-21 | 0           | 0       | M      | 1                | 0         | minister                             | 34         | Social Credit Party of Canada        | S.C.        | BC       | 1.04       | 451\n",
       "6            | ABBEY, Mike          | BRANDON--SOURIS                | 2004-06-28 | 0           | 0       | M      | 1                | 0         | civil servant                        | 38         | New Democratic Party                 | N.D.P.      | MB       | 19.15      | 6740\n",
       "7            | ABBEY, Norm          | NANAIMO--COWICHAN              | 2000-11-27 | 0           | 0       | M      | 1                | 0         | tree planter                         | 37         | Green Party of Canada                | G.P.        | BC       | 2.36       | 1196\n",
       "8            | ABBOTT, Alina        | CHATHAM-KENT--ESSEX            | 2008-10-14 | 0           | 0       | F      | 1                | 0         | teacher                              | 40         | Green Party of Canada                | G.P.        | ON       | 6.51       | 2712\n",
       "9            | ABBOTT, Charles Leo  | SPRINGFIELD                    | 1945-06-11 | 0           | 0       | M      | 1                | 0         | clergyman                            | 20         | Independent                          | Ind.        | MB       | 1.37       | 231\n",
       "... (38789 rows omitted)"
      ]
     },
     "execution_count": 6,
     "metadata": {},
     "output_type": "execute_result"
    }
   ],
   "source": [
    "#reading data from file\n",
    "data = pd.read_csv('federal_candidates_2018-07-22.csv').dropna()\n",
    "data = Table.from_df(data)\n",
    "\n",
    "data"
   ]
  },
  {
   "cell_type": "code",
   "execution_count": 13,
   "metadata": {},
   "outputs": [
    {
     "data": {
      "text/html": [
       "<table border=\"1\" class=\"dataframe\">\n",
       "    <thead>\n",
       "        <tr>\n",
       "            <th>date</th> <th>elected</th> <th>gender</th> <th>incumbent</th> <th>party_short</th> <th>province</th> <th>vote_share</th>\n",
       "        </tr>\n",
       "    </thead>\n",
       "    <tbody>\n",
       "        <tr>\n",
       "            <td>2008-10-14</td> <td>0      </td> <td>F     </td> <td>0        </td> <td>G.P.       </td> <td>ON      </td> <td>6.51      </td>\n",
       "        </tr>\n",
       "        <tr>\n",
       "            <td>2008-10-14</td> <td>0      </td> <td>F     </td> <td>0        </td> <td>N.D.P.     </td> <td>ON      </td> <td>18.02     </td>\n",
       "        </tr>\n",
       "        <tr>\n",
       "            <td>1993-10-25</td> <td>0      </td> <td>F     </td> <td>0        </td> <td>N.D.P.     </td> <td>AB      </td> <td>1.89      </td>\n",
       "        </tr>\n",
       "        <tr>\n",
       "            <td>1993-10-25</td> <td>1      </td> <td>F     </td> <td>0        </td> <td>Ref.       </td> <td>AB      </td> <td>52.45     </td>\n",
       "        </tr>\n",
       "        <tr>\n",
       "            <td>1997-06-02</td> <td>1      </td> <td>F     </td> <td>0        </td> <td>Ref.       </td> <td>AB      </td> <td>51.8      </td>\n",
       "        </tr>\n",
       "        <tr>\n",
       "            <td>2000-11-27</td> <td>1      </td> <td>F     </td> <td>1        </td> <td>CA         </td> <td>AB      </td> <td>60.13     </td>\n",
       "        </tr>\n",
       "        <tr>\n",
       "            <td>2004-06-28</td> <td>1      </td> <td>F     </td> <td>1        </td> <td>C          </td> <td>AB      </td> <td>64.38     </td>\n",
       "        </tr>\n",
       "        <tr>\n",
       "            <td>2006-01-23</td> <td>1      </td> <td>F     </td> <td>1        </td> <td>C          </td> <td>AB      </td> <td>68.49     </td>\n",
       "        </tr>\n",
       "        <tr>\n",
       "            <td>2008-10-14</td> <td>1      </td> <td>F     </td> <td>1        </td> <td>C          </td> <td>AB      </td> <td>69.62     </td>\n",
       "        </tr>\n",
       "        <tr>\n",
       "            <td>2011-05-02</td> <td>1      </td> <td>F     </td> <td>1        </td> <td>C          </td> <td>AB      </td> <td>70.17     </td>\n",
       "        </tr>\n",
       "    </tbody>\n",
       "</table>\n",
       "<p>... (4849 rows omitted)</p>"
      ],
      "text/plain": [
       "date       | elected | gender | incumbent | party_short | province | vote_share\n",
       "2008-10-14 | 0       | F      | 0         | G.P.        | ON       | 6.51\n",
       "2008-10-14 | 0       | F      | 0         | N.D.P.      | ON       | 18.02\n",
       "1993-10-25 | 0       | F      | 0         | N.D.P.      | AB       | 1.89\n",
       "1993-10-25 | 1       | F      | 0         | Ref.        | AB       | 52.45\n",
       "1997-06-02 | 1       | F      | 0         | Ref.        | AB       | 51.8\n",
       "2000-11-27 | 1       | F      | 1         | CA          | AB       | 60.13\n",
       "2004-06-28 | 1       | F      | 1         | C           | AB       | 64.38\n",
       "2006-01-23 | 1       | F      | 1         | C           | AB       | 68.49\n",
       "2008-10-14 | 1       | F      | 1         | C           | AB       | 69.62\n",
       "2011-05-02 | 1       | F      | 1         | C           | AB       | 70.17\n",
       "... (4849 rows omitted)"
      ]
     },
     "execution_count": 13,
     "metadata": {},
     "output_type": "execute_result"
    }
   ],
   "source": [
    "columns_kept = ['date', 'elected', 'gender', 'incumbent', 'party_short', 'province', 'vote_share']\n",
    "selected = data.select(columns_kept)\n",
    "\n",
    "women = selected.where('gender', 'F')\n",
    "women"
   ]
  },
  {
   "cell_type": "code",
   "execution_count": 12,
   "metadata": {},
   "outputs": [
    {
     "data": {
      "text/html": [
       "<table border=\"1\" class=\"dataframe\">\n",
       "    <thead>\n",
       "        <tr>\n",
       "            <th>date</th> <th>elected</th> <th>gender</th> <th>incumbent</th> <th>party_short</th> <th>province</th> <th>vote_share</th>\n",
       "        </tr>\n",
       "    </thead>\n",
       "    <tbody>\n",
       "        <tr>\n",
       "            <td>1945-06-11</td> <td>0      </td> <td>M     </td> <td>0        </td> <td>S.C.       </td> <td>SK      </td> <td>7.88      </td>\n",
       "        </tr>\n",
       "        <tr>\n",
       "            <td>1993-10-25</td> <td>0      </td> <td>M     </td> <td>0        </td> <td>Com'lth    </td> <td>ON      </td> <td>0.22      </td>\n",
       "        </tr>\n",
       "        <tr>\n",
       "            <td>1993-10-25</td> <td>0      </td> <td>M     </td> <td>0        </td> <td>C.P.       </td> <td>MB      </td> <td>0.1       </td>\n",
       "        </tr>\n",
       "        <tr>\n",
       "            <td>2004-06-28</td> <td>0      </td> <td>M     </td> <td>0        </td> <td>G.P.       </td> <td>ON      </td> <td>3.33      </td>\n",
       "        </tr>\n",
       "        <tr>\n",
       "            <td>2006-01-23</td> <td>0      </td> <td>M     </td> <td>0        </td> <td>G.P.       </td> <td>ON      </td> <td>1.63      </td>\n",
       "        </tr>\n",
       "        <tr>\n",
       "            <td>1988-11-21</td> <td>0      </td> <td>M     </td> <td>0        </td> <td>S.C.       </td> <td>BC      </td> <td>1.04      </td>\n",
       "        </tr>\n",
       "        <tr>\n",
       "            <td>2004-06-28</td> <td>0      </td> <td>M     </td> <td>0        </td> <td>N.D.P.     </td> <td>MB      </td> <td>19.15     </td>\n",
       "        </tr>\n",
       "        <tr>\n",
       "            <td>2000-11-27</td> <td>0      </td> <td>M     </td> <td>0        </td> <td>G.P.       </td> <td>BC      </td> <td>2.36      </td>\n",
       "        </tr>\n",
       "        <tr>\n",
       "            <td>1945-06-11</td> <td>0      </td> <td>M     </td> <td>0        </td> <td>Ind.       </td> <td>MB      </td> <td>1.37      </td>\n",
       "        </tr>\n",
       "        <tr>\n",
       "            <td>2000-11-27</td> <td>0      </td> <td>M     </td> <td>0        </td> <td>P.C.       </td> <td>AB      </td> <td>13.83     </td>\n",
       "        </tr>\n",
       "    </tbody>\n",
       "</table>\n",
       "<p>... (33930 rows omitted)</p>"
      ],
      "text/plain": [
       "date       | elected | gender | incumbent | party_short | province | vote_share\n",
       "1945-06-11 | 0       | M      | 0         | S.C.        | SK       | 7.88\n",
       "1993-10-25 | 0       | M      | 0         | Com'lth     | ON       | 0.22\n",
       "1993-10-25 | 0       | M      | 0         | C.P.        | MB       | 0.1\n",
       "2004-06-28 | 0       | M      | 0         | G.P.        | ON       | 3.33\n",
       "2006-01-23 | 0       | M      | 0         | G.P.        | ON       | 1.63\n",
       "1988-11-21 | 0       | M      | 0         | S.C.        | BC       | 1.04\n",
       "2004-06-28 | 0       | M      | 0         | N.D.P.      | MB       | 19.15\n",
       "2000-11-27 | 0       | M      | 0         | G.P.        | BC       | 2.36\n",
       "1945-06-11 | 0       | M      | 0         | Ind.        | MB       | 1.37\n",
       "2000-11-27 | 0       | M      | 0         | P.C.        | AB       | 13.83\n",
       "... (33930 rows omitted)"
      ]
     },
     "execution_count": 12,
     "metadata": {},
     "output_type": "execute_result"
    }
   ],
   "source": [
    "men = selected.where('gender', 'M')\n",
    "men"
   ]
  },
  {
   "cell_type": "code",
   "execution_count": null,
   "metadata": {},
   "outputs": [],
   "source": []
  }
 ],
 "metadata": {
  "kernelspec": {
   "display_name": "Python 3",
   "language": "python",
   "name": "python3"
  },
  "language_info": {
   "codemirror_mode": {
    "name": "ipython",
    "version": 3
   },
   "file_extension": ".py",
   "mimetype": "text/x-python",
   "name": "python",
   "nbconvert_exporter": "python",
   "pygments_lexer": "ipython3",
   "version": "3.6.7"
  }
 },
 "nbformat": 4,
 "nbformat_minor": 2
}
