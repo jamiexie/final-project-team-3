{
 "cells": [
  {
   "cell_type": "code",
   "execution_count": 2,
   "metadata": {},
   "outputs": [],
   "source": [
    "from datascience import *\n",
    "import numpy as np"
   ]
  },
  {
   "cell_type": "code",
   "execution_count": 4,
   "metadata": {},
   "outputs": [
    {
     "data": {
      "text/html": [
       "<table border=\"1\" class=\"dataframe\">\n",
       "    <thead>\n",
       "        <tr>\n",
       "            <th>state</th> <th>totalPop</th> <th>hispPop</th>\n",
       "        </tr>\n",
       "    </thead>\n",
       "    <tbody>\n",
       "        <tr>\n",
       "            <td>Alabama             </td> <td>4,779,736 </td> <td>185,602   </td>\n",
       "        </tr>\n",
       "        <tr>\n",
       "            <td>Alaska              </td> <td>710,231   </td> <td>39,249    </td>\n",
       "        </tr>\n",
       "        <tr>\n",
       "            <td>Arizona             </td> <td>6,392,017 </td> <td>1,895,149 </td>\n",
       "        </tr>\n",
       "        <tr>\n",
       "            <td>Arkansas            </td> <td>2,915,918 </td> <td>186,050   </td>\n",
       "        </tr>\n",
       "        <tr>\n",
       "            <td>California          </td> <td>37,253,956</td> <td>14,013,719</td>\n",
       "        </tr>\n",
       "        <tr>\n",
       "            <td>Colorado            </td> <td>5,029,196 </td> <td>1,038,687 </td>\n",
       "        </tr>\n",
       "        <tr>\n",
       "            <td>Connecticut         </td> <td>3,574,097 </td> <td>479,087   </td>\n",
       "        </tr>\n",
       "        <tr>\n",
       "            <td>Delaware            </td> <td>897,934   </td> <td>73,221    </td>\n",
       "        </tr>\n",
       "        <tr>\n",
       "            <td>District of Columbia</td> <td>601,723   </td> <td>54,749    </td>\n",
       "        </tr>\n",
       "        <tr>\n",
       "            <td>Florida             </td> <td>18,801,310</td> <td>4,223,806 </td>\n",
       "        </tr>\n",
       "    </tbody>\n",
       "</table>\n",
       "<p>... (41 rows omitted)</p>"
      ],
      "text/plain": [
       "state                | totalPop   | hispPop\n",
       "Alabama              | 4,779,736  | 185,602\n",
       "Alaska               | 710,231    | 39,249\n",
       "Arizona              | 6,392,017  | 1,895,149\n",
       "Arkansas             | 2,915,918  | 186,050\n",
       "California           | 37,253,956 | 14,013,719\n",
       "Colorado             | 5,029,196  | 1,038,687\n",
       "Connecticut          | 3,574,097  | 479,087\n",
       "Delaware             | 897,934    | 73,221\n",
       "District of Columbia | 601,723    | 54,749\n",
       "Florida              | 18,801,310 | 4,223,806\n",
       "... (41 rows omitted)"
      ]
     },
     "execution_count": 4,
     "metadata": {},
     "output_type": "execute_result"
    }
   ],
   "source": [
    "Table.read_table('state-pop.csv')"
   ]
  },
  {
   "cell_type": "code",
   "execution_count": 5,
   "metadata": {},
   "outputs": [
    {
     "data": {
      "text/html": [
       "<table border=\"1\" class=\"dataframe\">\n",
       "    <thead>\n",
       "        <tr>\n",
       "            <th>name</th> <th>rank</th> <th>count</th> <th>prop100k</th> <th>cum_prop100k</th> <th>pctwhite</th> <th>pctblack</th> <th>pctapi</th> <th>pctaian</th> <th>pct2prace</th> <th>pcthispanic</th>\n",
       "        </tr>\n",
       "    </thead>\n",
       "    <tbody>\n",
       "        <tr>\n",
       "            <td>SMITH    </td> <td>1   </td> <td>2376206</td> <td>880.85  </td> <td>880.85      </td> <td>73.35   </td> <td>22.22   </td> <td>0.4   </td> <td>0.85   </td> <td>1.63     </td> <td>1.56       </td>\n",
       "        </tr>\n",
       "        <tr>\n",
       "            <td>JOHNSON  </td> <td>2   </td> <td>1857160</td> <td>688.44  </td> <td>1569.3      </td> <td>61.55   </td> <td>33.8    </td> <td>0.42  </td> <td>0.91   </td> <td>1.82     </td> <td>1.5        </td>\n",
       "        </tr>\n",
       "        <tr>\n",
       "            <td>WILLIAMS </td> <td>3   </td> <td>1534042</td> <td>568.66  </td> <td>2137.96     </td> <td>48.52   </td> <td>46.72   </td> <td>0.37  </td> <td>0.78   </td> <td>2.01     </td> <td>1.6        </td>\n",
       "        </tr>\n",
       "        <tr>\n",
       "            <td>BROWN    </td> <td>4   </td> <td>1380145</td> <td>511.62  </td> <td>2649.58     </td> <td>60.71   </td> <td>34.54   </td> <td>0.41  </td> <td>0.83   </td> <td>1.86     </td> <td>1.64       </td>\n",
       "        </tr>\n",
       "        <tr>\n",
       "            <td>JONES    </td> <td>5   </td> <td>1362755</td> <td>505.17  </td> <td>3154.75     </td> <td>57.69   </td> <td>37.73   </td> <td>0.35  </td> <td>0.94   </td> <td>1.85     </td> <td>1.44       </td>\n",
       "        </tr>\n",
       "        <tr>\n",
       "            <td>MILLER   </td> <td>6   </td> <td>1127803</td> <td>418.07  </td> <td>3572.82     </td> <td>85.81   </td> <td>10.41   </td> <td>0.42  </td> <td>0.63   </td> <td>1.31     </td> <td>1.43       </td>\n",
       "        </tr>\n",
       "        <tr>\n",
       "            <td>DAVIS    </td> <td>7   </td> <td>1072335</td> <td>397.51  </td> <td>3970.33     </td> <td>64.73   </td> <td>30.77   </td> <td>0.4   </td> <td>0.79   </td> <td>1.73     </td> <td>1.58       </td>\n",
       "        </tr>\n",
       "        <tr>\n",
       "            <td>GARCIA   </td> <td>8   </td> <td>858289 </td> <td>318.17  </td> <td>4288.5      </td> <td>6.17    </td> <td>0.49    </td> <td>1.43  </td> <td>0.58   </td> <td>0.51     </td> <td>90.81      </td>\n",
       "        </tr>\n",
       "        <tr>\n",
       "            <td>RODRIGUEZ</td> <td>9   </td> <td>804240 </td> <td>298.13  </td> <td>4586.62     </td> <td>5.52    </td> <td>0.54    </td> <td>0.58  </td> <td>0.24   </td> <td>0.41     </td> <td>92.7       </td>\n",
       "        </tr>\n",
       "        <tr>\n",
       "            <td>WILSON   </td> <td>10  </td> <td>783051 </td> <td>290.27  </td> <td>4876.9      </td> <td>69.72   </td> <td>25.32   </td> <td>0.46  </td> <td>1.03   </td> <td>1.74     </td> <td>1.73       </td>\n",
       "        </tr>\n",
       "    </tbody>\n",
       "</table>\n",
       "<p>... (151661 rows omitted)</p>"
      ],
      "text/plain": [
       "name      | rank | count   | prop100k | cum_prop100k | pctwhite | pctblack | pctapi | pctaian | pct2prace | pcthispanic\n",
       "SMITH     | 1    | 2376206 | 880.85   | 880.85       | 73.35    | 22.22    | 0.4    | 0.85    | 1.63      | 1.56\n",
       "JOHNSON   | 2    | 1857160 | 688.44   | 1569.3       | 61.55    | 33.8     | 0.42   | 0.91    | 1.82      | 1.5\n",
       "WILLIAMS  | 3    | 1534042 | 568.66   | 2137.96      | 48.52    | 46.72    | 0.37   | 0.78    | 2.01      | 1.6\n",
       "BROWN     | 4    | 1380145 | 511.62   | 2649.58      | 60.71    | 34.54    | 0.41   | 0.83    | 1.86      | 1.64\n",
       "JONES     | 5    | 1362755 | 505.17   | 3154.75      | 57.69    | 37.73    | 0.35   | 0.94    | 1.85      | 1.44\n",
       "MILLER    | 6    | 1127803 | 418.07   | 3572.82      | 85.81    | 10.41    | 0.42   | 0.63    | 1.31      | 1.43\n",
       "DAVIS     | 7    | 1072335 | 397.51   | 3970.33      | 64.73    | 30.77    | 0.4    | 0.79    | 1.73      | 1.58\n",
       "GARCIA    | 8    | 858289  | 318.17   | 4288.5       | 6.17     | 0.49     | 1.43   | 0.58    | 0.51      | 90.81\n",
       "RODRIGUEZ | 9    | 804240  | 298.13   | 4586.62      | 5.52     | 0.54     | 0.58   | 0.24    | 0.41      | 92.7\n",
       "WILSON    | 10   | 783051  | 290.27   | 4876.9       | 69.72    | 25.32    | 0.46   | 1.03    | 1.74      | 1.73\n",
       "... (151661 rows omitted)"
      ]
     },
     "execution_count": 5,
     "metadata": {},
     "output_type": "execute_result"
    }
   ],
   "source": [
    "Table.read_table('surnames.csv')"
   ]
  },
  {
   "cell_type": "code",
   "execution_count": 6,
   "metadata": {},
   "outputs": [
    {
     "data": {
      "text/html": [
       "<table border=\"1\" class=\"dataframe\">\n",
       "    <thead>\n",
       "        <tr>\n",
       "            <th>Decade</th> <th>Age</th> <th>Male</th> <th>Female</th> <th>Male.1</th> <th>Female.1</th>\n",
       "        </tr>\n",
       "    </thead>\n",
       "    <tbody>\n",
       "        <tr>\n",
       "            <td>1900  </td> <td>113 </td> <td>0    </td> <td>0     </td> <td>0      </td> <td>0       </td>\n",
       "        </tr>\n",
       "        <tr>\n",
       "            <td>1910  </td> <td>103 </td> <td>45   </td> <td>318   </td> <td>0.00045</td> <td>0.00318 </td>\n",
       "        </tr>\n",
       "        <tr>\n",
       "            <td>1920  </td> <td>93  </td> <td>4154 </td> <td>11403 </td> <td>0.04154</td> <td>0.11403 </td>\n",
       "        </tr>\n",
       "        <tr>\n",
       "            <td>1930  </td> <td>83  </td> <td>28836</td> <td>44336 </td> <td>0.28836</td> <td>0.44336 </td>\n",
       "        </tr>\n",
       "        <tr>\n",
       "            <td>1940  </td> <td>73  </td> <td>58728</td> <td>70955 </td> <td>0.58728</td> <td>0.70955 </td>\n",
       "        </tr>\n",
       "        <tr>\n",
       "            <td>1950  </td> <td>63  </td> <td>78170</td> <td>86389 </td> <td>0.7817 </td> <td>0.86389 </td>\n",
       "        </tr>\n",
       "        <tr>\n",
       "            <td>1960  </td> <td>53  </td> <td>87064</td> <td>92468 </td> <td>0.87064</td> <td>0.92468 </td>\n",
       "        </tr>\n",
       "        <tr>\n",
       "            <td>1970  </td> <td>43  </td> <td>92710</td> <td>95619 </td> <td>0.9271 </td> <td>0.95619 </td>\n",
       "        </tr>\n",
       "        <tr>\n",
       "            <td>1980  </td> <td>33  </td> <td>96010</td> <td>97619 </td> <td>0.9601 </td> <td>0.97619 </td>\n",
       "        </tr>\n",
       "        <tr>\n",
       "            <td>1990  </td> <td>23  </td> <td>97802</td> <td>98570 </td> <td>0.97802</td> <td>0.9857  </td>\n",
       "        </tr>\n",
       "    </tbody>\n",
       "</table>\n",
       "<p>... (2 rows omitted)</p>"
      ],
      "text/plain": [
       "Decade | Age  | Male  | Female | Male.1  | Female.1\n",
       "1900   | 113  | 0     | 0      | 0       | 0\n",
       "1910   | 103  | 45    | 318    | 0.00045 | 0.00318\n",
       "1920   | 93   | 4154  | 11403  | 0.04154 | 0.11403\n",
       "1930   | 83   | 28836 | 44336  | 0.28836 | 0.44336\n",
       "1940   | 73   | 58728 | 70955  | 0.58728 | 0.70955\n",
       "1950   | 63   | 78170 | 86389  | 0.7817  | 0.86389\n",
       "1960   | 53   | 87064 | 92468  | 0.87064 | 0.92468\n",
       "1970   | 43   | 92710 | 95619  | 0.9271  | 0.95619\n",
       "1980   | 33   | 96010 | 97619  | 0.9601  | 0.97619\n",
       "1990   | 23   | 97802 | 98570  | 0.97802 | 0.9857\n",
       "... (2 rows omitted)"
      ]
     },
     "execution_count": 6,
     "metadata": {},
     "output_type": "execute_result"
    }
   ],
   "source": [
    "Table.read_table('aging-curve.csv')"
   ]
  },
  {
   "cell_type": "code",
   "execution_count": 8,
   "metadata": {},
   "outputs": [
    {
     "data": {
      "text/html": [
       "<table border=\"1\" class=\"dataframe\">\n",
       "    <thead>\n",
       "        <tr>\n",
       "            <th>Unnamed: 0</th> <th>Miller</th> <th>Anderson</th> <th>Martin</th> <th>Smith</th> <th>Thompson</th> <th>Wilson</th> <th>Moore</th> <th>White</th> <th>Taylor</th> <th>Davis</th> <th>Johnson</th> <th>Brown</th> <th>Jones</th> <th>Thomas</th> <th>Williams</th> <th>Jackson</th> <th>Lee</th> <th>Garcia</th> <th>Martinez</th> <th>Rodriguez</th>\n",
       "        </tr>\n",
       "    </thead>\n",
       "    <tbody>\n",
       "        <tr>\n",
       "            <td>John      </td> <td>8.4   </td> <td>6.9     </td> <td>13.4  </td> <td>-23.5</td> <td>3.6     </td> <td>2.5   </td> <td>3.6  </td> <td>1.7  </td> <td>0.4   </td> <td>-3.8 </td> <td>-35.2  </td> <td>-34.3</td> <td>-26.5</td> <td>5.1   </td> <td>-11.3   </td> <td>-27.7  </td> <td>-8.3 </td> <td>-66.4 </td> <td>-63.6   </td> <td>-69.5    </td>\n",
       "        </tr>\n",
       "        <tr>\n",
       "            <td>Michael   </td> <td>18.1  </td> <td>2.4     </td> <td>13    </td> <td>5.6  </td> <td>6.7     </td> <td>2.6   </td> <td>15.7 </td> <td>-1.7 </td> <td>0.6   </td> <td>2.5  </td> <td>-4.8   </td> <td>4.2  </td> <td>-2.4 </td> <td>2.9   </td> <td>-8.1    </td> <td>-16.8  </td> <td>-9.8 </td> <td>-54.7 </td> <td>-54.4   </td> <td>-63.2    </td>\n",
       "        </tr>\n",
       "        <tr>\n",
       "            <td>James     </td> <td>20.3  </td> <td>24      </td> <td>35.9  </td> <td>21.1 </td> <td>33.6    </td> <td>40.9  </td> <td>43   </td> <td>41   </td> <td>37.4  </td> <td>32.8 </td> <td>9.6    </td> <td>25.4 </td> <td>8.9  </td> <td>24.8  </td> <td>20.7    </td> <td>19.8   </td> <td>12.2 </td> <td>-84.4 </td> <td>-83.9   </td> <td>-87.4    </td>\n",
       "        </tr>\n",
       "        <tr>\n",
       "            <td>Robert    </td> <td>29.6  </td> <td>27      </td> <td>16.8  </td> <td>8.7  </td> <td>18      </td> <td>22    </td> <td>17.2 </td> <td>18.1 </td> <td>39.2  </td> <td>7.2  </td> <td>5.9    </td> <td>14.2 </td> <td>12.6 </td> <td>4.8   </td> <td>-1.3    </td> <td>-1.8   </td> <td>12.1 </td> <td>-57.4 </td> <td>-55.1   </td> <td>-61      </td>\n",
       "        </tr>\n",
       "        <tr>\n",
       "            <td>David     </td> <td>27.9  </td> <td>28.1    </td> <td>15.8  </td> <td>10.8 </td> <td>11      </td> <td>12.6  </td> <td>8.8  </td> <td>16.2 </td> <td>-1.5  </td> <td>-44.7</td> <td>3.5    </td> <td>10.3 </td> <td>5    </td> <td>0.9   </td> <td>-7.3    </td> <td>-15.4  </td> <td>10.1 </td> <td>-30.5 </td> <td>-28.5   </td> <td>-31.7    </td>\n",
       "        </tr>\n",
       "        <tr>\n",
       "            <td>Mary      </td> <td>21.5  </td> <td>18.2    </td> <td>26.2  </td> <td>14.7 </td> <td>18.5    </td> <td>18.9  </td> <td>22.8 </td> <td>22.5 </td> <td>16    </td> <td>14.8 </td> <td>11.7   </td> <td>13.1 </td> <td>12.2 </td> <td>18.9  </td> <td>13.1    </td> <td>8.7    </td> <td>-16.4</td> <td>-42.4 </td> <td>-41.3   </td> <td>-54      </td>\n",
       "        </tr>\n",
       "        <tr>\n",
       "            <td>William   </td> <td>22.5  </td> <td>7       </td> <td>33.3  </td> <td>16.6 </td> <td>29.3    </td> <td>21.5  </td> <td>31.9 </td> <td>38.2 </td> <td>29.2  </td> <td>23.1 </td> <td>4.3    </td> <td>22.3 </td> <td>15.4 </td> <td>19.8  </td> <td>-59.1   </td> <td>9.6    </td> <td>-11.4</td> <td>-82.3 </td> <td>-80.2   </td> <td>-74.2    </td>\n",
       "        </tr>\n",
       "        <tr>\n",
       "            <td>Richard   </td> <td>24.1  </td> <td>22.9    </td> <td>12.6  </td> <td>6.2  </td> <td>8.4     </td> <td>1.7   </td> <td>7.3  </td> <td>12.2 </td> <td>5     </td> <td>5.2  </td> <td>-2     </td> <td>3.9  </td> <td>-4.6 </td> <td>-2.3  </td> <td>-17     </td> <td>-21.6  </td> <td>-6.6 </td> <td>-43.2 </td> <td>-43     </td> <td>-47.7    </td>\n",
       "        </tr>\n",
       "        <tr>\n",
       "            <td>Thomas    </td> <td>12.9  </td> <td>3       </td> <td>22.1  </td> <td>-2.6 </td> <td>-3.5    </td> <td>9.7   </td> <td>32.2 </td> <td>13.2 </td> <td>4.3   </td> <td>-5.9 </td> <td>-15    </td> <td>1.8  </td> <td>-3.5 </td> <td>-81.1 </td> <td>-11.5   </td> <td>-11    </td> <td>-8.9 </td> <td>-77.8 </td> <td>-75.6   </td> <td>-84.2    </td>\n",
       "        </tr>\n",
       "        <tr>\n",
       "            <td>Jennifer  </td> <td>24.9  </td> <td>17.3    </td> <td>22.5  </td> <td>16.7 </td> <td>15.2    </td> <td>14.8  </td> <td>11.5 </td> <td>14.8 </td> <td>14.9  </td> <td>8.7  </td> <td>10.3   </td> <td>6.5  </td> <td>24   </td> <td>-1.6  </td> <td>-7.4    </td> <td>-6.3   </td> <td>22.5 </td> <td>-32.9 </td> <td>-32.2   </td> <td>-33.2    </td>\n",
       "        </tr>\n",
       "    </tbody>\n",
       "</table>\n",
       "<p>... (10 rows omitted)</p>"
      ],
      "text/plain": [
       "Unnamed: 0 | Miller | Anderson | Martin | Smith | Thompson | Wilson | Moore | White | Taylor | Davis | Johnson | Brown | Jones | Thomas | Williams | Jackson | Lee   | Garcia | Martinez | Rodriguez\n",
       "John       | 8.4    | 6.9      | 13.4   | -23.5 | 3.6      | 2.5    | 3.6   | 1.7   | 0.4    | -3.8  | -35.2   | -34.3 | -26.5 | 5.1    | -11.3    | -27.7   | -8.3  | -66.4  | -63.6    | -69.5\n",
       "Michael    | 18.1   | 2.4      | 13     | 5.6   | 6.7      | 2.6    | 15.7  | -1.7  | 0.6    | 2.5   | -4.8    | 4.2   | -2.4  | 2.9    | -8.1     | -16.8   | -9.8  | -54.7  | -54.4    | -63.2\n",
       "James      | 20.3   | 24       | 35.9   | 21.1  | 33.6     | 40.9   | 43    | 41    | 37.4   | 32.8  | 9.6     | 25.4  | 8.9   | 24.8   | 20.7     | 19.8    | 12.2  | -84.4  | -83.9    | -87.4\n",
       "Robert     | 29.6   | 27       | 16.8   | 8.7   | 18       | 22     | 17.2  | 18.1  | 39.2   | 7.2   | 5.9     | 14.2  | 12.6  | 4.8    | -1.3     | -1.8    | 12.1  | -57.4  | -55.1    | -61\n",
       "David      | 27.9   | 28.1     | 15.8   | 10.8  | 11       | 12.6   | 8.8   | 16.2  | -1.5   | -44.7 | 3.5     | 10.3  | 5     | 0.9    | -7.3     | -15.4   | 10.1  | -30.5  | -28.5    | -31.7\n",
       "Mary       | 21.5   | 18.2     | 26.2   | 14.7  | 18.5     | 18.9   | 22.8  | 22.5  | 16     | 14.8  | 11.7    | 13.1  | 12.2  | 18.9   | 13.1     | 8.7     | -16.4 | -42.4  | -41.3    | -54\n",
       "William    | 22.5   | 7        | 33.3   | 16.6  | 29.3     | 21.5   | 31.9  | 38.2  | 29.2   | 23.1  | 4.3     | 22.3  | 15.4  | 19.8   | -59.1    | 9.6     | -11.4 | -82.3  | -80.2    | -74.2\n",
       "Richard    | 24.1   | 22.9     | 12.6   | 6.2   | 8.4      | 1.7    | 7.3   | 12.2  | 5      | 5.2   | -2      | 3.9   | -4.6  | -2.3   | -17      | -21.6   | -6.6  | -43.2  | -43      | -47.7\n",
       "Thomas     | 12.9   | 3        | 22.1   | -2.6  | -3.5     | 9.7    | 32.2  | 13.2  | 4.3    | -5.9  | -15     | 1.8   | -3.5  | -81.1  | -11.5    | -11     | -8.9  | -77.8  | -75.6    | -84.2\n",
       "Jennifer   | 24.9   | 17.3     | 22.5   | 16.7  | 15.2     | 14.8   | 11.5  | 14.8  | 14.9   | 8.7   | 10.3    | 6.5   | 24    | -1.6   | -7.4     | -6.3    | 22.5  | -32.9  | -32.2    | -33.2\n",
       "... (10 rows omitted)"
      ]
     },
     "execution_count": 8,
     "metadata": {},
     "output_type": "execute_result"
    }
   ],
   "source": [
    "Table.read_table('adjustments.csv')"
   ]
  }
 ],
 "metadata": {
  "kernelspec": {
   "display_name": "Python 3",
   "language": "python",
   "name": "python3"
  },
  "language_info": {
   "codemirror_mode": {
    "name": "ipython",
    "version": 3
   },
   "file_extension": ".py",
   "mimetype": "text/x-python",
   "name": "python",
   "nbconvert_exporter": "python",
   "pygments_lexer": "ipython3",
   "version": "3.6.7"
  }
 },
 "nbformat": 4,
 "nbformat_minor": 2
}
