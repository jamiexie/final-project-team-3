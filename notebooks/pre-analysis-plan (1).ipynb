{
 "cells": [
  {
   "cell_type": "markdown",
   "metadata": {},
   "source": [
    "# L&S 88 - Final Project Team 3 - Most Common Name in the U.S/\n",
    "## Pre-Analysis Plan\n",
    "_Jamie Xie, Kai Chen, Jae Eu, 19 April 2019 11:00 PM_\n",
    "\n",
    "**Table of Contents**\n",
    "\n",
    "1. [Abstract](#Abstract)\n",
    "2. [Data](#Data)\n",
    "3. [Strategy](#Strategy)\n",
    "4. [Analysis](#Analysis)\n",
    "5. [Deliverables](#Deliverables)\n",
    "6. [Sources](#Sources)\n",
    "\n",
    "### Abstract\n",
    "\n",
    "This project attempts to reproduce analysis on the most common names in the U.S. Five-Thirty-Eight. The original analysis used data from the SSA to find the most common names since 1910 and adjusted for Hispanic and Latino populations. In our recreation of this analysis, we will attempt to reproduce their results and comment on possible problems that the original analysis did not cover.\n",
    "\n",
    "### Data\n",
    "\n",
    "The data is from the [Github repository](https://github.com/fivethirtyeight/data.git) containing the original tables on which the analysis was performed. \n",
    "\n",
    "### Strategy\n",
    "\n",
    "The coding analysis will attempt to reproduce their analysis of the data to see if we can come up with the same most common name in the U.S. using their guidelines. We will also consider possible ways in which the original analysis could be improved upon.\n",
    "\n",
    "### Analysis\n",
    "\n",
    "In process...\n",
    "\n",
    "### Deliverables\n",
    "\n",
    "At the end of this project, we will present our findings in a presentation using the RISE extension for Jupyter Notebooks. \n",
    "All other files in this repository are supporting files that will not be covered in the presentation.\n",
    "\n",
    "### Sources\n",
    "\n",
    "https://fivethirtyeight.com/features/whats-the-most-common-name-in-america/\n",
    "\n",
    "https://github.com/fivethirtyeight/data.git"
   ]
  }
 ],
 "metadata": {
  "kernelspec": {
   "display_name": "Python 3",
   "language": "python",
   "name": "python3"
  },
  "language_info": {
   "codemirror_mode": {
    "name": "ipython",
    "version": 3
   },
   "file_extension": ".py",
   "mimetype": "text/x-python",
   "name": "python",
   "nbconvert_exporter": "python",
   "pygments_lexer": "ipython3",
   "version": "3.6.7"
  }
 },
 "nbformat": 4,
 "nbformat_minor": 2
}
